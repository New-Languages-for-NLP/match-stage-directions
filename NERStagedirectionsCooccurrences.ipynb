{
  "nbformat": 4,
  "nbformat_minor": 0,
  "metadata": {
    "colab": {
      "name": "NERStagedirectionsCooccurrences.ipynb",
      "provenance": [],
      "collapsed_sections": []
    },
    "kernelspec": {
      "name": "python3",
      "display_name": "Python 3"
    },
    "language_info": {
      "name": "python"
    }
  },
  "cells": [
    {
      "cell_type": "code",
      "metadata": {
        "id": "4waL1DnMKSkb",
        "colab": {
          "base_uri": "https://localhost:8080/"
        },
        "outputId": "27c75aa2-d840-4f9f-8f99-0661de523447"
      },
      "source": [
        "!pip install standoffconverter\n",
        "!python -m spacy download en_core_web_sm"
      ],
      "execution_count": 1,
      "outputs": [
        {
          "output_type": "stream",
          "text": [
            "Collecting standoffconverter\n",
            "  Downloading https://files.pythonhosted.org/packages/ed/75/aa10210ea689e1371901b46e52db3401e2b6312ca5ba656875fc5487208d/standoffconverter-0.8.7-py3-none-any.whl\n",
            "Requirement already satisfied: numpy in /usr/local/lib/python3.7/dist-packages (from standoffconverter) (1.19.5)\n",
            "Requirement already satisfied: pandas in /usr/local/lib/python3.7/dist-packages (from standoffconverter) (1.1.5)\n",
            "Requirement already satisfied: lxml in /usr/local/lib/python3.7/dist-packages (from standoffconverter) (4.2.6)\n",
            "Requirement already satisfied: python-dateutil>=2.7.3 in /usr/local/lib/python3.7/dist-packages (from pandas->standoffconverter) (2.8.1)\n",
            "Requirement already satisfied: pytz>=2017.2 in /usr/local/lib/python3.7/dist-packages (from pandas->standoffconverter) (2018.9)\n",
            "Requirement already satisfied: six>=1.5 in /usr/local/lib/python3.7/dist-packages (from python-dateutil>=2.7.3->pandas->standoffconverter) (1.15.0)\n",
            "Installing collected packages: standoffconverter\n",
            "Successfully installed standoffconverter-0.8.7\n",
            "Requirement already satisfied: en_core_web_sm==2.2.5 from https://github.com/explosion/spacy-models/releases/download/en_core_web_sm-2.2.5/en_core_web_sm-2.2.5.tar.gz#egg=en_core_web_sm==2.2.5 in /usr/local/lib/python3.7/dist-packages (2.2.5)\n",
            "Requirement already satisfied: spacy>=2.2.2 in /usr/local/lib/python3.7/dist-packages (from en_core_web_sm==2.2.5) (2.2.4)\n",
            "Requirement already satisfied: setuptools in /usr/local/lib/python3.7/dist-packages (from spacy>=2.2.2->en_core_web_sm==2.2.5) (57.0.0)\n",
            "Requirement already satisfied: catalogue<1.1.0,>=0.0.7 in /usr/local/lib/python3.7/dist-packages (from spacy>=2.2.2->en_core_web_sm==2.2.5) (1.0.0)\n",
            "Requirement already satisfied: murmurhash<1.1.0,>=0.28.0 in /usr/local/lib/python3.7/dist-packages (from spacy>=2.2.2->en_core_web_sm==2.2.5) (1.0.5)\n",
            "Requirement already satisfied: blis<0.5.0,>=0.4.0 in /usr/local/lib/python3.7/dist-packages (from spacy>=2.2.2->en_core_web_sm==2.2.5) (0.4.1)\n",
            "Requirement already satisfied: srsly<1.1.0,>=1.0.2 in /usr/local/lib/python3.7/dist-packages (from spacy>=2.2.2->en_core_web_sm==2.2.5) (1.0.5)\n",
            "Requirement already satisfied: cymem<2.1.0,>=2.0.2 in /usr/local/lib/python3.7/dist-packages (from spacy>=2.2.2->en_core_web_sm==2.2.5) (2.0.5)\n",
            "Requirement already satisfied: tqdm<5.0.0,>=4.38.0 in /usr/local/lib/python3.7/dist-packages (from spacy>=2.2.2->en_core_web_sm==2.2.5) (4.41.1)\n",
            "Requirement already satisfied: thinc==7.4.0 in /usr/local/lib/python3.7/dist-packages (from spacy>=2.2.2->en_core_web_sm==2.2.5) (7.4.0)\n",
            "Requirement already satisfied: numpy>=1.15.0 in /usr/local/lib/python3.7/dist-packages (from spacy>=2.2.2->en_core_web_sm==2.2.5) (1.19.5)\n",
            "Requirement already satisfied: requests<3.0.0,>=2.13.0 in /usr/local/lib/python3.7/dist-packages (from spacy>=2.2.2->en_core_web_sm==2.2.5) (2.23.0)\n",
            "Requirement already satisfied: plac<1.2.0,>=0.9.6 in /usr/local/lib/python3.7/dist-packages (from spacy>=2.2.2->en_core_web_sm==2.2.5) (1.1.3)\n",
            "Requirement already satisfied: preshed<3.1.0,>=3.0.2 in /usr/local/lib/python3.7/dist-packages (from spacy>=2.2.2->en_core_web_sm==2.2.5) (3.0.5)\n",
            "Requirement already satisfied: wasabi<1.1.0,>=0.4.0 in /usr/local/lib/python3.7/dist-packages (from spacy>=2.2.2->en_core_web_sm==2.2.5) (0.8.2)\n",
            "Requirement already satisfied: importlib-metadata>=0.20; python_version < \"3.8\" in /usr/local/lib/python3.7/dist-packages (from catalogue<1.1.0,>=0.0.7->spacy>=2.2.2->en_core_web_sm==2.2.5) (4.5.0)\n",
            "Requirement already satisfied: chardet<4,>=3.0.2 in /usr/local/lib/python3.7/dist-packages (from requests<3.0.0,>=2.13.0->spacy>=2.2.2->en_core_web_sm==2.2.5) (3.0.4)\n",
            "Requirement already satisfied: certifi>=2017.4.17 in /usr/local/lib/python3.7/dist-packages (from requests<3.0.0,>=2.13.0->spacy>=2.2.2->en_core_web_sm==2.2.5) (2021.5.30)\n",
            "Requirement already satisfied: idna<3,>=2.5 in /usr/local/lib/python3.7/dist-packages (from requests<3.0.0,>=2.13.0->spacy>=2.2.2->en_core_web_sm==2.2.5) (2.10)\n",
            "Requirement already satisfied: urllib3!=1.25.0,!=1.25.1,<1.26,>=1.21.1 in /usr/local/lib/python3.7/dist-packages (from requests<3.0.0,>=2.13.0->spacy>=2.2.2->en_core_web_sm==2.2.5) (1.24.3)\n",
            "Requirement already satisfied: typing-extensions>=3.6.4; python_version < \"3.8\" in /usr/local/lib/python3.7/dist-packages (from importlib-metadata>=0.20; python_version < \"3.8\"->catalogue<1.1.0,>=0.0.7->spacy>=2.2.2->en_core_web_sm==2.2.5) (3.7.4.3)\n",
            "Requirement already satisfied: zipp>=0.5 in /usr/local/lib/python3.7/dist-packages (from importlib-metadata>=0.20; python_version < \"3.8\"->catalogue<1.1.0,>=0.0.7->spacy>=2.2.2->en_core_web_sm==2.2.5) (3.4.1)\n",
            "\u001b[38;5;2m✔ Download and installation successful\u001b[0m\n",
            "You can now load the model via spacy.load('en_core_web_sm')\n"
          ],
          "name": "stdout"
        }
      ]
    },
    {
      "cell_type": "markdown",
      "metadata": {
        "id": "tCX3ifBkDiK3"
      },
      "source": [
        "# Part 1: Extracting a cooccurrence graph from stage directions of Shakespeare plays"
      ]
    },
    {
      "cell_type": "code",
      "metadata": {
        "id": "XuxnFqLGKbs6"
      },
      "source": [
        "from standoffconverter import View, Standoff\n",
        "import requests\n",
        "import json\n",
        "import numpy as np\n",
        "import pandas as pd\n",
        "from lxml import etree\n",
        "from functools import partial"
      ],
      "execution_count": 2,
      "outputs": []
    },
    {
      "cell_type": "markdown",
      "metadata": {
        "id": "iY29gyKgDy2M"
      },
      "source": [
        "## Fetching data from Dracor\n",
        "We will make use of the open API from dracor to fetch a play by Shakespeare in TEI. Therefore, we first fetch a list of available shakespeare plays using the `get_shake_meta` function."
      ]
    },
    {
      "cell_type": "code",
      "metadata": {
        "id": "cEAvPSJfKpZM"
      },
      "source": [
        "def get_shake_meta():\n",
        "  url = 'https://dracor.org/api/corpora/shake/metadata'\n",
        "\n",
        "  headers = {'Content-Type': 'application/json'}\n",
        "\n",
        "  response = requests.get(url, headers=headers)\n",
        "\n",
        "  if response.status_code == 200:\n",
        "      return pd.DataFrame(json.loads(response.content.decode('utf-8')))\n",
        "  else:\n",
        "      return None\n"
      ],
      "execution_count": 3,
      "outputs": []
    },
    {
      "cell_type": "code",
      "metadata": {
        "colab": {
          "base_uri": "https://localhost:8080/",
          "height": 356
        },
        "id": "uvspCAjgNb0e",
        "outputId": "11ab97d5-e5e0-448a-a084-4a9f743b5e3d"
      },
      "source": [
        "shake_meta = get_shake_meta()\n",
        "shake_meta.head()"
      ],
      "execution_count": 4,
      "outputs": [
        {
          "output_type": "execute_result",
          "data": {
            "text/html": [
              "<div>\n",
              "<style scoped>\n",
              "    .dataframe tbody tr th:only-of-type {\n",
              "        vertical-align: middle;\n",
              "    }\n",
              "\n",
              "    .dataframe tbody tr th {\n",
              "        vertical-align: top;\n",
              "    }\n",
              "\n",
              "    .dataframe thead th {\n",
              "        text-align: right;\n",
              "    }\n",
              "</style>\n",
              "<table border=\"1\" class=\"dataframe\">\n",
              "  <thead>\n",
              "    <tr style=\"text-align: right;\">\n",
              "      <th></th>\n",
              "      <th>size</th>\n",
              "      <th>wordCountSp</th>\n",
              "      <th>averageClustering</th>\n",
              "      <th>numOfPersonGroups</th>\n",
              "      <th>density</th>\n",
              "      <th>averagePathLength</th>\n",
              "      <th>maxDegreeIds</th>\n",
              "      <th>averageDegree</th>\n",
              "      <th>name</th>\n",
              "      <th>normalizedGenre</th>\n",
              "      <th>diameter</th>\n",
              "      <th>yearPremiered</th>\n",
              "      <th>yearPrinted</th>\n",
              "      <th>maxDegree</th>\n",
              "      <th>numOfSpeakers</th>\n",
              "      <th>wordCountText</th>\n",
              "      <th>yearNormalized</th>\n",
              "      <th>libretto</th>\n",
              "      <th>subtitle</th>\n",
              "      <th>title</th>\n",
              "      <th>numConnectedComponents</th>\n",
              "      <th>wordCountStage</th>\n",
              "      <th>numOfSpeakersUnknown</th>\n",
              "      <th>yearWritten</th>\n",
              "      <th>firstAuthor</th>\n",
              "      <th>id</th>\n",
              "      <th>numOfSpeakersFemale</th>\n",
              "      <th>numOfSegments</th>\n",
              "      <th>numOfSpeakersMale</th>\n",
              "      <th>wikipediaLinkCount</th>\n",
              "      <th>numOfActs</th>\n",
              "      <th>numOfCoAuthors</th>\n",
              "      <th>playName</th>\n",
              "    </tr>\n",
              "  </thead>\n",
              "  <tbody>\n",
              "    <tr>\n",
              "      <th>0</th>\n",
              "      <td>25</td>\n",
              "      <td>17127</td>\n",
              "      <td>0.869870</td>\n",
              "      <td>3</td>\n",
              "      <td>0.683333</td>\n",
              "      <td>1.316667</td>\n",
              "      <td>Titania_MND|RobinGoodfellow_MND</td>\n",
              "      <td>16.400000</td>\n",
              "      <td>a-midsummer-night-s-dream</td>\n",
              "      <td>None</td>\n",
              "      <td>2</td>\n",
              "      <td>None</td>\n",
              "      <td>None</td>\n",
              "      <td>24</td>\n",
              "      <td>25</td>\n",
              "      <td>17772</td>\n",
              "      <td>1595</td>\n",
              "      <td>False</td>\n",
              "      <td>None</td>\n",
              "      <td>A Midsummer Night’s Dream</td>\n",
              "      <td>1</td>\n",
              "      <td>789</td>\n",
              "      <td>3</td>\n",
              "      <td>1595</td>\n",
              "      <td>William Shakespeare</td>\n",
              "      <td>shake000008</td>\n",
              "      <td>5</td>\n",
              "      <td>9</td>\n",
              "      <td>14</td>\n",
              "      <td>61</td>\n",
              "      <td>5</td>\n",
              "      <td>0</td>\n",
              "      <td>a-midsummer-night-s-dream</td>\n",
              "    </tr>\n",
              "    <tr>\n",
              "      <th>1</th>\n",
              "      <td>29</td>\n",
              "      <td>24421</td>\n",
              "      <td>0.792775</td>\n",
              "      <td>10</td>\n",
              "      <td>0.312808</td>\n",
              "      <td>1.727513</td>\n",
              "      <td>Parolles_AWW</td>\n",
              "      <td>8.758621</td>\n",
              "      <td>all-s-well-that-ends-well</td>\n",
              "      <td>None</td>\n",
              "      <td>3</td>\n",
              "      <td>None</td>\n",
              "      <td>1623</td>\n",
              "      <td>22</td>\n",
              "      <td>29</td>\n",
              "      <td>25066</td>\n",
              "      <td>1605</td>\n",
              "      <td>False</td>\n",
              "      <td>None</td>\n",
              "      <td>All’s Well That Ends Well</td>\n",
              "      <td>2</td>\n",
              "      <td>826</td>\n",
              "      <td>10</td>\n",
              "      <td>1605</td>\n",
              "      <td>William Shakespeare</td>\n",
              "      <td>shake000012</td>\n",
              "      <td>5</td>\n",
              "      <td>24</td>\n",
              "      <td>14</td>\n",
              "      <td>30</td>\n",
              "      <td>5</td>\n",
              "      <td>0</td>\n",
              "      <td>all-s-well-that-ends-well</td>\n",
              "    </tr>\n",
              "    <tr>\n",
              "      <th>2</th>\n",
              "      <td>74</td>\n",
              "      <td>25878</td>\n",
              "      <td>0.815458</td>\n",
              "      <td>22</td>\n",
              "      <td>0.147353</td>\n",
              "      <td>2.080954</td>\n",
              "      <td>Antony_JC</td>\n",
              "      <td>10.756757</td>\n",
              "      <td>antony-and-cleopatra</td>\n",
              "      <td>None</td>\n",
              "      <td>4</td>\n",
              "      <td>None</td>\n",
              "      <td>1623</td>\n",
              "      <td>47</td>\n",
              "      <td>74</td>\n",
              "      <td>27119</td>\n",
              "      <td>1606</td>\n",
              "      <td>False</td>\n",
              "      <td>None</td>\n",
              "      <td>Antony and Cleopatra</td>\n",
              "      <td>2</td>\n",
              "      <td>1407</td>\n",
              "      <td>22</td>\n",
              "      <td>1606</td>\n",
              "      <td>William Shakespeare</td>\n",
              "      <td>shake000035</td>\n",
              "      <td>1</td>\n",
              "      <td>42</td>\n",
              "      <td>33</td>\n",
              "      <td>37</td>\n",
              "      <td>5</td>\n",
              "      <td>0</td>\n",
              "      <td>antony-and-cleopatra</td>\n",
              "    </tr>\n",
              "    <tr>\n",
              "      <th>3</th>\n",
              "      <td>28</td>\n",
              "      <td>23113</td>\n",
              "      <td>0.779298</td>\n",
              "      <td>1</td>\n",
              "      <td>0.291005</td>\n",
              "      <td>1.907407</td>\n",
              "      <td>Orlando_AYL|Touchstone_AYL</td>\n",
              "      <td>7.857143</td>\n",
              "      <td>as-you-like-it</td>\n",
              "      <td>None</td>\n",
              "      <td>4</td>\n",
              "      <td>None</td>\n",
              "      <td>1623</td>\n",
              "      <td>18</td>\n",
              "      <td>28</td>\n",
              "      <td>23721</td>\n",
              "      <td>1599</td>\n",
              "      <td>False</td>\n",
              "      <td>None</td>\n",
              "      <td>As You Like It</td>\n",
              "      <td>1</td>\n",
              "      <td>970</td>\n",
              "      <td>3</td>\n",
              "      <td>1599</td>\n",
              "      <td>William Shakespeare</td>\n",
              "      <td>shake000010</td>\n",
              "      <td>4</td>\n",
              "      <td>23</td>\n",
              "      <td>20</td>\n",
              "      <td>43</td>\n",
              "      <td>5</td>\n",
              "      <td>0</td>\n",
              "      <td>as-you-like-it</td>\n",
              "    </tr>\n",
              "    <tr>\n",
              "      <th>4</th>\n",
              "      <td>67</td>\n",
              "      <td>28851</td>\n",
              "      <td>0.796710</td>\n",
              "      <td>11</td>\n",
              "      <td>0.163275</td>\n",
              "      <td>1.977415</td>\n",
              "      <td>Coriolanus_Cor</td>\n",
              "      <td>10.776119</td>\n",
              "      <td>coriolanus</td>\n",
              "      <td>None</td>\n",
              "      <td>4</td>\n",
              "      <td>None</td>\n",
              "      <td>1623</td>\n",
              "      <td>54</td>\n",
              "      <td>67</td>\n",
              "      <td>29948</td>\n",
              "      <td>1608</td>\n",
              "      <td>False</td>\n",
              "      <td>None</td>\n",
              "      <td>Coriolanus</td>\n",
              "      <td>2</td>\n",
              "      <td>1460</td>\n",
              "      <td>11</td>\n",
              "      <td>1608</td>\n",
              "      <td>William Shakespeare</td>\n",
              "      <td>shake000026</td>\n",
              "      <td>3</td>\n",
              "      <td>29</td>\n",
              "      <td>45</td>\n",
              "      <td>35</td>\n",
              "      <td>5</td>\n",
              "      <td>0</td>\n",
              "      <td>coriolanus</td>\n",
              "    </tr>\n",
              "  </tbody>\n",
              "</table>\n",
              "</div>"
            ],
            "text/plain": [
              "   size  wordCountSp  ...  numOfCoAuthors                   playName\n",
              "0    25        17127  ...               0  a-midsummer-night-s-dream\n",
              "1    29        24421  ...               0  all-s-well-that-ends-well\n",
              "2    74        25878  ...               0       antony-and-cleopatra\n",
              "3    28        23113  ...               0             as-you-like-it\n",
              "4    67        28851  ...               0                 coriolanus\n",
              "\n",
              "[5 rows x 33 columns]"
            ]
          },
          "metadata": {
            "tags": []
          },
          "execution_count": 4
        }
      ]
    },
    {
      "cell_type": "markdown",
      "metadata": {
        "id": "gNRxe52MELqg"
      },
      "source": [
        "Next, we just fetch the TEI of the first play in the list and parse it as an lxml etree and then also as a Standoff object."
      ]
    },
    {
      "cell_type": "code",
      "metadata": {
        "id": "aAJIiuMzK-US"
      },
      "source": [
        "def get_play_tei(playname):\n",
        "\n",
        "  url = f'https://dracor.org/api/corpora/shake/play/{playname}/tei'\n",
        "\n",
        "  headers = {'Content-Type': 'application/xml'}\n",
        "\n",
        "  response = requests.get(url, headers=headers)\n",
        "\n",
        "  if response.status_code == 200:\n",
        "      return etree.fromstring(response.content.decode('utf-8'))\n",
        "  else:\n",
        "      return None"
      ],
      "execution_count": 5,
      "outputs": []
    },
    {
      "cell_type": "code",
      "metadata": {
        "id": "jMLROv-ZL5wP"
      },
      "source": [
        "playname = shake_meta.iloc[0][\"playName\"]\n",
        "play_tei = get_play_tei(playname)\n",
        "play_so = Standoff(play_tei, namespaces={'tei': 'http://www.tei-c.org/ns/1.0'})"
      ],
      "execution_count": 6,
      "outputs": []
    },
    {
      "cell_type": "markdown",
      "metadata": {
        "id": "u6Ew2aH0EYEW"
      },
      "source": [
        "## Preprocessing\n",
        "We would like to access all text that is a stage direction grouped by the scene that it appers in. We therefore discard all empty elements and extract the corresponding stage and scene information for the remaining elements."
      ]
    },
    {
      "cell_type": "code",
      "metadata": {
        "id": "gpRUaRt1O2lb"
      },
      "source": [
        "ct = play_so.collapsed_table"
      ],
      "execution_count": 7,
      "outputs": []
    },
    {
      "cell_type": "code",
      "metadata": {
        "id": "WLbKYgNhV_Xl"
      },
      "source": [
        "ct = ct[ct.T.apply(lambda row: row.text.strip() != '' if row.context[-1].tag != \"{http://www.tei-c.org/ns/1.0}c\" else True)]"
      ],
      "execution_count": 8,
      "outputs": []
    },
    {
      "cell_type": "code",
      "metadata": {
        "id": "GEBIpOO5qswB"
      },
      "source": [
        "ct['readable_context'] = ct.context.apply(lambda x: \">\".join([it.tag[it.tag.index(\"}\")+1:] for it in x]))"
      ],
      "execution_count": 9,
      "outputs": []
    },
    {
      "cell_type": "code",
      "metadata": {
        "colab": {
          "base_uri": "https://localhost:8080/",
          "height": 348
        },
        "id": "wJamboEcd1oP",
        "outputId": "6b81622c-d124-4195-a8fa-da3080760edb"
      },
      "source": [
        "ct.iloc[100:110]"
      ],
      "execution_count": 10,
      "outputs": [
        {
          "output_type": "execute_result",
          "data": {
            "text/html": [
              "<div>\n",
              "<style scoped>\n",
              "    .dataframe tbody tr th:only-of-type {\n",
              "        vertical-align: middle;\n",
              "    }\n",
              "\n",
              "    .dataframe tbody tr th {\n",
              "        vertical-align: top;\n",
              "    }\n",
              "\n",
              "    .dataframe thead th {\n",
              "        text-align: right;\n",
              "    }\n",
              "</style>\n",
              "<table border=\"1\" class=\"dataframe\">\n",
              "  <thead>\n",
              "    <tr style=\"text-align: right;\">\n",
              "      <th></th>\n",
              "      <th>context</th>\n",
              "      <th>text</th>\n",
              "      <th>readable_context</th>\n",
              "    </tr>\n",
              "  </thead>\n",
              "  <tbody>\n",
              "    <tr>\n",
              "      <th>342</th>\n",
              "      <td>[[[&lt;Element {http://www.tei-c.org/ns/1.0}castL...</td>\n",
              "      <td></td>\n",
              "      <td>text&gt;body&gt;div&gt;div&gt;sp&gt;l&gt;c</td>\n",
              "    </tr>\n",
              "    <tr>\n",
              "      <th>344</th>\n",
              "      <td>[[[&lt;Element {http://www.tei-c.org/ns/1.0}castL...</td>\n",
              "      <td>O</td>\n",
              "      <td>text&gt;body&gt;div&gt;div&gt;sp&gt;l&gt;w</td>\n",
              "    </tr>\n",
              "    <tr>\n",
              "      <th>346</th>\n",
              "      <td>[[[&lt;Element {http://www.tei-c.org/ns/1.0}castL...</td>\n",
              "      <td>,</td>\n",
              "      <td>text&gt;body&gt;div&gt;div&gt;sp&gt;l&gt;pc</td>\n",
              "    </tr>\n",
              "    <tr>\n",
              "      <th>348</th>\n",
              "      <td>[[[&lt;Element {http://www.tei-c.org/ns/1.0}castL...</td>\n",
              "      <td></td>\n",
              "      <td>text&gt;body&gt;div&gt;div&gt;sp&gt;l&gt;c</td>\n",
              "    </tr>\n",
              "    <tr>\n",
              "      <th>350</th>\n",
              "      <td>[[[&lt;Element {http://www.tei-c.org/ns/1.0}castL...</td>\n",
              "      <td>methinks</td>\n",
              "      <td>text&gt;body&gt;div&gt;div&gt;sp&gt;l&gt;w</td>\n",
              "    </tr>\n",
              "    <tr>\n",
              "      <th>352</th>\n",
              "      <td>[[[&lt;Element {http://www.tei-c.org/ns/1.0}castL...</td>\n",
              "      <td></td>\n",
              "      <td>text&gt;body&gt;div&gt;div&gt;sp&gt;l&gt;c</td>\n",
              "    </tr>\n",
              "    <tr>\n",
              "      <th>354</th>\n",
              "      <td>[[[&lt;Element {http://www.tei-c.org/ns/1.0}castL...</td>\n",
              "      <td>how</td>\n",
              "      <td>text&gt;body&gt;div&gt;div&gt;sp&gt;l&gt;w</td>\n",
              "    </tr>\n",
              "    <tr>\n",
              "      <th>356</th>\n",
              "      <td>[[[&lt;Element {http://www.tei-c.org/ns/1.0}castL...</td>\n",
              "      <td></td>\n",
              "      <td>text&gt;body&gt;div&gt;div&gt;sp&gt;l&gt;c</td>\n",
              "    </tr>\n",
              "    <tr>\n",
              "      <th>358</th>\n",
              "      <td>[[[&lt;Element {http://www.tei-c.org/ns/1.0}castL...</td>\n",
              "      <td>slow</td>\n",
              "      <td>text&gt;body&gt;div&gt;div&gt;sp&gt;l&gt;w</td>\n",
              "    </tr>\n",
              "    <tr>\n",
              "      <th>362</th>\n",
              "      <td>[[[&lt;Element {http://www.tei-c.org/ns/1.0}castL...</td>\n",
              "      <td>This</td>\n",
              "      <td>text&gt;body&gt;div&gt;div&gt;sp&gt;l&gt;w</td>\n",
              "    </tr>\n",
              "  </tbody>\n",
              "</table>\n",
              "</div>"
            ],
            "text/plain": [
              "                                               context  ...           readable_context\n",
              "342  [[[<Element {http://www.tei-c.org/ns/1.0}castL...  ...   text>body>div>div>sp>l>c\n",
              "344  [[[<Element {http://www.tei-c.org/ns/1.0}castL...  ...   text>body>div>div>sp>l>w\n",
              "346  [[[<Element {http://www.tei-c.org/ns/1.0}castL...  ...  text>body>div>div>sp>l>pc\n",
              "348  [[[<Element {http://www.tei-c.org/ns/1.0}castL...  ...   text>body>div>div>sp>l>c\n",
              "350  [[[<Element {http://www.tei-c.org/ns/1.0}castL...  ...   text>body>div>div>sp>l>w\n",
              "352  [[[<Element {http://www.tei-c.org/ns/1.0}castL...  ...   text>body>div>div>sp>l>c\n",
              "354  [[[<Element {http://www.tei-c.org/ns/1.0}castL...  ...   text>body>div>div>sp>l>w\n",
              "356  [[[<Element {http://www.tei-c.org/ns/1.0}castL...  ...   text>body>div>div>sp>l>c\n",
              "358  [[[<Element {http://www.tei-c.org/ns/1.0}castL...  ...   text>body>div>div>sp>l>w\n",
              "362  [[[<Element {http://www.tei-c.org/ns/1.0}castL...  ...   text>body>div>div>sp>l>w\n",
              "\n",
              "[10 rows x 3 columns]"
            ]
          },
          "metadata": {
            "tags": []
          },
          "execution_count": 10
        }
      ]
    },
    {
      "cell_type": "code",
      "metadata": {
        "id": "4z58vJ0vTuZb"
      },
      "source": [
        "def extract_context_el(context, el_tag, attrib=None):\n",
        "    \n",
        "    els = [it for it in context if it.tag == el_tag]\n",
        "    if attrib is not None:\n",
        "      els = [it for it in context if attrib[0] in it.attrib and it.attrib[attrib[0]] == attrib[1]]\n",
        "    if len(els) > 0 :\n",
        "        return els[0]\n",
        "\n",
        "extract_stages_el = partial(extract_context_el, el_tag='{http://www.tei-c.org/ns/1.0}stage')\n",
        "extract_scene_el = partial(extract_context_el, el_tag='{http://www.tei-c.org/ns/1.0}div', attrib=(\"type\", \"scene\"))\n",
        "stages = ct.context.apply(extract_stages_el)\n",
        "scenes = ct.context.apply(extract_scene_el)\n",
        "ct['stages'] = stages\n",
        "ct['scenes'] = scenes"
      ],
      "execution_count": 11,
      "outputs": []
    },
    {
      "cell_type": "markdown",
      "metadata": {
        "id": "tG8q93a3E9wp"
      },
      "source": [
        "We now group the text of the rows based on the `stage` and `scene` information."
      ]
    },
    {
      "cell_type": "code",
      "metadata": {
        "id": "Ul3bIJHf5xJM"
      },
      "source": [
        "grouped_scenes = []\n",
        "\n",
        "for scene,subdf in ct.groupby('scenes', sort=False):\n",
        "\n",
        "    c_stage_direction_df = subdf[~subdf.stages.isnull()]\n",
        "\n",
        "    c_stage_directions = []\n",
        "    for stage, subsubdf in c_stage_direction_df.groupby('stages', sort=False):\n",
        "        c_stage_directions.append(' '.join(subsubdf.text))\n",
        "\n",
        "    grouped_scenes.append({\n",
        "        'scene': scene,\n",
        "        'text': c_stage_directions,\n",
        "    })\n",
        "\n",
        "grouped_scenes = pd.DataFrame(grouped_scenes)"
      ],
      "execution_count": 12,
      "outputs": []
    },
    {
      "cell_type": "code",
      "metadata": {
        "colab": {
          "base_uri": "https://localhost:8080/"
        },
        "id": "pHstq_bmYpro",
        "outputId": "317f9909-3b19-4645-8df2-822b520d76ab"
      },
      "source": [
        "grouped_scenes.iloc[0].text"
      ],
      "execution_count": 13,
      "outputs": [
        {
          "output_type": "execute_result",
          "data": {
            "text/plain": [
              "['Enter   Theseus ,   Hippolyta ,   and   Philostrate ,   with   others .',\n",
              " 'Philostrate   exits .',\n",
              " 'Enter   Egeus   and   his   daughter   Hermia ,   and   Lysander     and   Demetrius .',\n",
              " ',   to   Theseus',\n",
              " 'All   but   Hermia   and   Lysander   exit .',\n",
              " 'Enter   Helena .',\n",
              " 'Hermia   exits .',\n",
              " 'Lysander   exits .',\n",
              " 'She   exits .']"
            ]
          },
          "metadata": {
            "tags": []
          },
          "execution_count": 13
        }
      ]
    },
    {
      "cell_type": "markdown",
      "metadata": {
        "id": "2d7SZiXEFMGN"
      },
      "source": [
        "## Entity recognition\n",
        "We now use a spacy model to identify Entities and count how often entities appear together in a scene. First, we store it in a sparse, unbounded data format but in a second step, when we know the total number of distinct entities, we convert the cooccurrence data to a adjacency matrix."
      ]
    },
    {
      "cell_type": "code",
      "metadata": {
        "id": "lEiEeCTodBwC"
      },
      "source": [
        "import spacy\n",
        "nlp = spacy.load(\"en_core_web_sm\")"
      ],
      "execution_count": 14,
      "outputs": []
    },
    {
      "cell_type": "code",
      "metadata": {
        "id": "kdrNg9SNSedg"
      },
      "source": [
        "index = []\n",
        "cooccurrences_list = []\n",
        "for iscene, scene in grouped_scenes.iterrows():\n",
        "    for stage in nlp.pipe(scene.text):\n",
        "        for enti in stage.ents:\n",
        "            enti = enti.text\n",
        "            for entj in stage.ents:\n",
        "                entj = entj.text\n",
        "                if entj not in index:\n",
        "                    index.append(entj)\n",
        "                  \n",
        "                if enti != entj:\n",
        "                    cooccurrences_list.append((\n",
        "                        index.index(enti),\n",
        "                        index.index(entj),\n",
        "                    ))"
      ],
      "execution_count": 15,
      "outputs": []
    },
    {
      "cell_type": "code",
      "metadata": {
        "id": "XxVTIZPr-dVJ"
      },
      "source": [
        "cooccurrences_mat = np.zeros((len(index),len(index)))\n",
        "for a,b in cooccurrences_list:\n",
        "    cooccurrences_mat[a,b]+=1"
      ],
      "execution_count": 16,
      "outputs": []
    },
    {
      "cell_type": "markdown",
      "metadata": {
        "id": "VtE-xNvwFrJ1"
      },
      "source": [
        "The final adjacency matrix is presented as an image."
      ]
    },
    {
      "cell_type": "code",
      "metadata": {
        "colab": {
          "base_uri": "https://localhost:8080/",
          "height": 698
        },
        "id": "QhDK_uo3AoHi",
        "outputId": "907b157b-4346-41c3-8996-337825298165"
      },
      "source": [
        "import matplotlib.pyplot as plt\n",
        "\n",
        "\n",
        "def plot_cooccurrences(mat, index):\n",
        "    size = len(index)\n",
        "\n",
        "    # Limits for the extent\n",
        "    x_start = 0\n",
        "    x_end = size\n",
        "    y_start = 0\n",
        "    y_end = size\n",
        "\n",
        "    extent = [x_start, x_end, y_start, y_end]\n",
        "\n",
        "    fig = plt.figure(figsize=(14, 10))\n",
        "    ax = fig.add_subplot(111)\n",
        "    im = ax.imshow(mat, extent=extent, interpolation='None', cmap='viridis')\n",
        "\n",
        "    # Add the text\n",
        "    jump_x = (x_end - x_start) / (2.0 * size)\n",
        "    jump_y = (y_end - y_start) / (2.0 * size)\n",
        "    x_positions = np.linspace(start=x_start, stop=x_end, num=size, endpoint=False)\n",
        "    y_positions = np.linspace(start=y_start, stop=y_end, num=size, endpoint=False)\n",
        "\n",
        "    for y_index, y in enumerate(y_positions):\n",
        "        for x_index, x in enumerate(x_positions):\n",
        "            label = mat[y_index, x_index]\n",
        "            text_x = x + jump_x\n",
        "            text_y = y + jump_y\n",
        "            if y_index!=x_index:\n",
        "                ax.text(text_x, size-text_y, label, color='white', ha='center', va='center')\n",
        "            else:\n",
        "                ax.text(text_x, size-text_y, \"-\", color='white', ha='center', va='center')\n",
        "\n",
        "    ax.set_xticks(np.arange(x_start, x_end)+.5)\n",
        "    ax.set_xticklabels([s for s in index], rotation=90)\n",
        "\n",
        "    ax.set_yticks(np.arange(x_start, x_end)+.5)\n",
        "    ax.set_yticklabels([s for s in index[::-1]])\n",
        "\n",
        "\n",
        "    fig.colorbar(im)\n",
        "    return fig\n",
        "_ = plot_cooccurrences(cooccurrences_mat, index)"
      ],
      "execution_count": 17,
      "outputs": [
        {
          "output_type": "display_data",
          "data": {
            "image/png": "[encoded data removed]",
            "text/plain": [
              "<Figure size 1008x720 with 2 Axes>"
            ]
          },
          "metadata": {
            "tags": [],
            "needs_background": "light"
          }
        }
      ]
    },
    {
      "cell_type": "markdown",
      "metadata": {
        "id": "5WPYRQWKDB8P"
      },
      "source": [
        "# Part 2: Detecting stage directions"
      ]
    },
    {
      "cell_type": "code",
      "metadata": {
        "id": "k1Lf5ufZtpsG"
      },
      "source": [
        "grouped_chunks = []\n",
        "buffer = {\"text\": [], \"stage\":None}\n",
        "c_stage = None\n",
        "for irow, row in ct.iterrows():\n",
        "    context = [it.tag for it in row.context]\n",
        "    if (\n",
        "        \"{http://www.tei-c.org/ns/1.0}sp\" not in context\n",
        "        and \"{http://www.tei-c.org/ns/1.0}stage\" not in context\n",
        "        or \"{http://www.tei-c.org/ns/1.0}speaker\" in context\n",
        "        ):\n",
        "        continue\n",
        "    if c_stage != row.stages:\n",
        "        for sent in nlp(\"\".join(buffer['text'])).sents:\n",
        "            grouped_chunks.append({\n",
        "                \"text\": sent.text,\n",
        "                \"stage\": buffer['stage']\n",
        "            })\n",
        "        buffer = {\"text\": [], \"stage\":None}\n",
        "        c_stage = row.stages\n",
        "    buffer['text'].append(row.text)\n",
        "    buffer['stage'] = c_stage is not None\n",
        "\n",
        "if len(buffer)>0:\n",
        "    for sent in nlp(\" \".join(buffer['text'])).sents:\n",
        "        grouped_chunks.append({\n",
        "            \"text\": sent.text,\n",
        "            \"stage\": buffer['stage']\n",
        "        })\n",
        "grouped_chunks = pd.DataFrame(grouped_chunks)"
      ],
      "execution_count": 18,
      "outputs": []
    },
    {
      "cell_type": "code",
      "metadata": {
        "colab": {
          "base_uri": "https://localhost:8080/",
          "height": 35
        },
        "id": "IJ1LayaUv0IU",
        "outputId": "e96141c4-1b46-448c-9652-98f9197d0b02"
      },
      "source": [
        "grouped_chunks.iloc[0].text"
      ],
      "execution_count": 19,
      "outputs": [
        {
          "output_type": "execute_result",
          "data": {
            "application/vnd.google.colaboratory.intrinsic+json": {
              "type": "string"
            },
            "text/plain": [
              "'Enter Theseus, Hippolyta, and Philostrate, with others.'"
            ]
          },
          "metadata": {
            "tags": []
          },
          "execution_count": 19
        }
      ]
    },
    {
      "cell_type": "code",
      "metadata": {
        "colab": {
          "base_uri": "https://localhost:8080/",
          "height": 17
        },
        "id": "NYPUXgzIcNdp",
        "outputId": "74af839d-b997-4c00-ade8-211bc6814880"
      },
      "source": [
        "grouped_chunks.to_csv('stage_directions.csv',index=False)\n",
        "\n",
        "from google.colab import files\n",
        "files.download('stage_directions.csv') "
      ],
      "execution_count": 20,
      "outputs": [
        {
          "output_type": "display_data",
          "data": {
            "application/javascript": [
              "\n",
              "    async function download(id, filename, size) {\n",
              "      if (!google.colab.kernel.accessAllowed) {\n",
              "        return;\n",
              "      }\n",
              "      const div = document.createElement('div');\n",
              "      const label = document.createElement('label');\n",
              "      label.textContent = `Downloading \"${filename}\": `;\n",
              "      div.appendChild(label);\n",
              "      const progress = document.createElement('progress');\n",
              "      progress.max = size;\n",
              "      div.appendChild(progress);\n",
              "      document.body.appendChild(div);\n",
              "\n",
              "      const buffers = [];\n",
              "      let downloaded = 0;\n",
              "\n",
              "      const channel = await google.colab.kernel.comms.open(id);\n",
              "      // Send a message to notify the kernel that we're ready.\n",
              "      channel.send({})\n",
              "\n",
              "      for await (const message of channel.messages) {\n",
              "        // Send a message to notify the kernel that we're ready.\n",
              "        channel.send({})\n",
              "        if (message.buffers) {\n",
              "          for (const buffer of message.buffers) {\n",
              "            buffers.push(buffer);\n",
              "            downloaded += buffer.byteLength;\n",
              "            progress.value = downloaded;\n",
              "          }\n",
              "        }\n",
              "      }\n",
              "      const blob = new Blob(buffers, {type: 'application/binary'});\n",
              "      const a = document.createElement('a');\n",
              "      a.href = window.URL.createObjectURL(blob);\n",
              "      a.download = filename;\n",
              "      div.appendChild(a);\n",
              "      a.click();\n",
              "      div.remove();\n",
              "    }\n",
              "  "
            ],
            "text/plain": [
              "<IPython.core.display.Javascript object>"
            ]
          },
          "metadata": {
            "tags": []
          }
        },
        {
          "output_type": "display_data",
          "data": {
            "application/javascript": [
              "download(\"download_0c7d177a-832a-4a86-83b6-a0f923fa8fb5\", \"stage_directions.csv\", 101708)"
            ],
            "text/plain": [
              "<IPython.core.display.Javascript object>"
            ]
          },
          "metadata": {
            "tags": []
          }
        }
      ]
    },
    {
      "cell_type": "code",
      "metadata": {
        "colab": {
          "base_uri": "https://localhost:8080/",
          "height": 108
        },
        "id": "PvUgkhhqpkXf",
        "outputId": "588ec13c-26d6-4bcb-9c61-7528222c0178"
      },
      "source": [
        "ct.iloc[401:403]"
      ],
      "execution_count": 21,
      "outputs": [
        {
          "output_type": "execute_result",
          "data": {
            "text/html": [
              "<div>\n",
              "<style scoped>\n",
              "    .dataframe tbody tr th:only-of-type {\n",
              "        vertical-align: middle;\n",
              "    }\n",
              "\n",
              "    .dataframe tbody tr th {\n",
              "        vertical-align: top;\n",
              "    }\n",
              "\n",
              "    .dataframe thead th {\n",
              "        text-align: right;\n",
              "    }\n",
              "</style>\n",
              "<table border=\"1\" class=\"dataframe\">\n",
              "  <thead>\n",
              "    <tr style=\"text-align: right;\">\n",
              "      <th></th>\n",
              "      <th>context</th>\n",
              "      <th>text</th>\n",
              "      <th>readable_context</th>\n",
              "      <th>stages</th>\n",
              "      <th>scenes</th>\n",
              "    </tr>\n",
              "  </thead>\n",
              "  <tbody>\n",
              "    <tr>\n",
              "      <th>1002</th>\n",
              "      <td>[[[&lt;Element {http://www.tei-c.org/ns/1.0}castL...</td>\n",
              "      <td></td>\n",
              "      <td>text&gt;body&gt;div&gt;div&gt;sp&gt;l&gt;c</td>\n",
              "      <td>None</td>\n",
              "      <td>[[[], [], []], [[], [], [], [], [], [], [], []...</td>\n",
              "    </tr>\n",
              "    <tr>\n",
              "      <th>1004</th>\n",
              "      <td>[[[&lt;Element {http://www.tei-c.org/ns/1.0}castL...</td>\n",
              "      <td>thee</td>\n",
              "      <td>text&gt;body&gt;div&gt;div&gt;sp&gt;l&gt;w</td>\n",
              "      <td>None</td>\n",
              "      <td>[[[], [], []], [[], [], [], [], [], [], [], []...</td>\n",
              "    </tr>\n",
              "  </tbody>\n",
              "</table>\n",
              "</div>"
            ],
            "text/plain": [
              "                                                context  ...                                             scenes\n",
              "1002  [[[<Element {http://www.tei-c.org/ns/1.0}castL...  ...  [[[], [], []], [[], [], [], [], [], [], [], []...\n",
              "1004  [[[<Element {http://www.tei-c.org/ns/1.0}castL...  ...  [[[], [], []], [[], [], [], [], [], [], [], []...\n",
              "\n",
              "[2 rows x 5 columns]"
            ]
          },
          "metadata": {
            "tags": []
          },
          "execution_count": 21
        }
      ]
    },
    {
      "cell_type": "code",
      "metadata": {
        "id": "gutnHywYu_hZ"
      },
      "source": [
        "seed = 38383\n",
        "dataset = grouped_chunks.sample(frac=1,random_state=seed).reset_index(drop=True)\n",
        "\n",
        "true_ = dataset[dataset.stage==1]\n",
        "false_ = dataset[dataset.stage==0]\n",
        "false_subsample = false_[:len(true_)]\n",
        "\n",
        "dataset = pd.concat([true_, false_subsample])\n",
        "\n",
        "dataset = dataset.sample(frac=1,random_state=seed).reset_index(drop=True)"
      ],
      "execution_count": 23,
      "outputs": []
    },
    {
      "cell_type": "code",
      "metadata": {
        "id": "5ita_UCXtrq5",
        "colab": {
          "base_uri": "https://localhost:8080/",
          "height": 407
        },
        "outputId": "e0a6b3ef-f95b-4e1d-e2f2-3be3746b384e"
      },
      "source": [
        "dataset"
      ],
      "execution_count": 24,
      "outputs": [
        {
          "output_type": "execute_result",
          "data": {
            "text/html": [
              "<div>\n",
              "<style scoped>\n",
              "    .dataframe tbody tr th:only-of-type {\n",
              "        vertical-align: middle;\n",
              "    }\n",
              "\n",
              "    .dataframe tbody tr th {\n",
              "        vertical-align: top;\n",
              "    }\n",
              "\n",
              "    .dataframe thead th {\n",
              "        text-align: right;\n",
              "    }\n",
              "</style>\n",
              "<table border=\"1\" class=\"dataframe\">\n",
              "  <thead>\n",
              "    <tr style=\"text-align: right;\">\n",
              "      <th></th>\n",
              "      <th>text</th>\n",
              "      <th>stage</th>\n",
              "    </tr>\n",
              "  </thead>\n",
              "  <tbody>\n",
              "    <tr>\n",
              "      <th>0</th>\n",
              "      <td>Enter Pyramus (Bottom), and Thisbe (Flute), an...</td>\n",
              "      <td>True</td>\n",
              "    </tr>\n",
              "    <tr>\n",
              "      <th>1</th>\n",
              "      <td>Moonshine exits.</td>\n",
              "      <td>True</td>\n",
              "    </tr>\n",
              "    <tr>\n",
              "      <th>2</th>\n",
              "      <td>Come, recreant!</td>\n",
              "      <td>False</td>\n",
              "    </tr>\n",
              "    <tr>\n",
              "      <th>3</th>\n",
              "      <td>And look thou meet me ere the first cock crow.</td>\n",
              "      <td>False</td>\n",
              "    </tr>\n",
              "    <tr>\n",
              "      <th>4</th>\n",
              "      <td>Thou canst compel no more than she entreat.</td>\n",
              "      <td>False</td>\n",
              "    </tr>\n",
              "    <tr>\n",
              "      <th>...</th>\n",
              "      <td>...</td>\n",
              "      <td>...</td>\n",
              "    </tr>\n",
              "    <tr>\n",
              "      <th>401</th>\n",
              "      <td>, as Moonshine</td>\n",
              "      <td>True</td>\n",
              "    </tr>\n",
              "    <tr>\n",
              "      <th>402</th>\n",
              "      <td>Philostrate exits.</td>\n",
              "      <td>True</td>\n",
              "    </tr>\n",
              "    <tr>\n",
              "      <th>403</th>\n",
              "      <td>, as Thisbe</td>\n",
              "      <td>True</td>\n",
              "    </tr>\n",
              "    <tr>\n",
              "      <th>404</th>\n",
              "      <td>, as Pyramus</td>\n",
              "      <td>True</td>\n",
              "    </tr>\n",
              "    <tr>\n",
              "      <th>405</th>\n",
              "      <td>He exits.</td>\n",
              "      <td>True</td>\n",
              "    </tr>\n",
              "  </tbody>\n",
              "</table>\n",
              "<p>406 rows × 2 columns</p>\n",
              "</div>"
            ],
            "text/plain": [
              "                                                  text  stage\n",
              "0    Enter Pyramus (Bottom), and Thisbe (Flute), an...   True\n",
              "1                                     Moonshine exits.   True\n",
              "2                                      Come, recreant!  False\n",
              "3       And look thou meet me ere the first cock crow.  False\n",
              "4          Thou canst compel no more than she entreat.  False\n",
              "..                                                 ...    ...\n",
              "401                                     , as Moonshine   True\n",
              "402                                 Philostrate exits.   True\n",
              "403                                        , as Thisbe   True\n",
              "404                                       , as Pyramus   True\n",
              "405                                          He exits.   True\n",
              "\n",
              "[406 rows x 2 columns]"
            ]
          },
          "metadata": {
            "tags": []
          },
          "execution_count": 24
        }
      ]
    },
    {
      "cell_type": "code",
      "metadata": {
        "id": "ATJG7AH6SO5O"
      },
      "source": [
        ""
      ],
      "execution_count": null,
      "outputs": []
    }
  ]
}